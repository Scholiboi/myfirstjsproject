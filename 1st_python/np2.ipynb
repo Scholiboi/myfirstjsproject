{
 "cells": [
  {
   "cell_type": "code",
   "execution_count": 2,
   "id": "9b487a07e8250396",
   "metadata": {
    "ExecuteTime": {
     "end_time": "2024-07-20T12:02:38.243483Z",
     "start_time": "2024-07-20T12:02:38.133268Z"
    }
   },
   "outputs": [],
   "source": [
    "import numpy as np"
   ]
  },
  {
   "cell_type": "code",
   "execution_count": 3,
   "id": "d3c17bef391340f6",
   "metadata": {
    "ExecuteTime": {
     "end_time": "2024-07-20T12:02:38.248562Z",
     "start_time": "2024-07-20T12:02:38.244486Z"
    }
   },
   "outputs": [
    {
     "data": {
      "text/plain": [
       "array([[ 0,  1,  2,  3],\n",
       "       [ 4,  5,  6,  7],\n",
       "       [ 8,  9, 10, 11]])"
      ]
     },
     "execution_count": 3,
     "metadata": {},
     "output_type": "execute_result"
    }
   ],
   "source": [
    "a = np.arange(12).reshape(3,4)\n",
    "a"
   ]
  },
  {
   "cell_type": "code",
   "execution_count": 4,
   "id": "008e0f02",
   "metadata": {},
   "outputs": [
    {
     "data": {
      "text/plain": [
       "array([ 5,  6,  7,  8,  9, 10, 11])"
      ]
     },
     "execution_count": 4,
     "metadata": {},
     "output_type": "execute_result"
    }
   ],
   "source": [
    "a = np.arange(12)\n",
    "a[a>4]"
   ]
  },
  {
   "cell_type": "code",
   "execution_count": 5,
   "id": "91e0f7ece379c24e",
   "metadata": {
    "ExecuteTime": {
     "end_time": "2024-07-20T12:02:38.251367Z",
     "start_time": "2024-07-20T12:02:38.248562Z"
    }
   },
   "outputs": [
    {
     "name": "stdout",
     "output_type": "stream",
     "text": [
      "0\n",
      "1\n",
      "2\n",
      "3\n",
      "4\n",
      "5\n",
      "6\n",
      "7\n",
      "8\n",
      "9\n",
      "10\n",
      "11\n"
     ]
    }
   ],
   "source": [
    "for cell in a.flatten():\n",
    "    print(cell)"
   ]
  },
  {
   "cell_type": "code",
   "execution_count": 6,
   "id": "8a1914bf4186c404",
   "metadata": {
    "ExecuteTime": {
     "end_time": "2024-07-20T12:02:38.254616Z",
     "start_time": "2024-07-20T12:02:38.252366Z"
    }
   },
   "outputs": [
    {
     "name": "stdout",
     "output_type": "stream",
     "text": [
      "0\n",
      "1\n",
      "2\n",
      "3\n",
      "4\n",
      "5\n",
      "6\n",
      "7\n",
      "8\n",
      "9\n",
      "10\n",
      "11\n"
     ]
    }
   ],
   "source": [
    "for cell in np.nditer(a, order='C'):\n",
    "    print(cell)"
   ]
  },
  {
   "cell_type": "code",
   "execution_count": 7,
   "id": "46884512fec2382f",
   "metadata": {
    "ExecuteTime": {
     "end_time": "2024-07-20T12:02:38.257726Z",
     "start_time": "2024-07-20T12:02:38.254616Z"
    }
   },
   "outputs": [
    {
     "name": "stdout",
     "output_type": "stream",
     "text": [
      "0\n",
      "1\n",
      "2\n",
      "3\n",
      "4\n",
      "5\n",
      "6\n",
      "7\n",
      "8\n",
      "9\n",
      "10\n",
      "11\n"
     ]
    }
   ],
   "source": [
    "for cell in np.nditer(a, order='F'):\n",
    "    print(cell)"
   ]
  },
  {
   "cell_type": "code",
   "execution_count": 8,
   "id": "b1c97263035d88c2",
   "metadata": {
    "ExecuteTime": {
     "end_time": "2024-07-20T12:02:38.260971Z",
     "start_time": "2024-07-20T12:02:38.257726Z"
    }
   },
   "outputs": [
    {
     "name": "stdout",
     "output_type": "stream",
     "text": [
      "[ 0  1  2  3  4  5  6  7  8  9 10 11]\n"
     ]
    }
   ],
   "source": [
    "for cell in np.nditer(a, order='F', flags=['external_loop']):\n",
    "    print(cell)"
   ]
  },
  {
   "cell_type": "markdown",
   "id": "c186bd0494d6ffc2",
   "metadata": {},
   "source": []
  },
  {
   "cell_type": "code",
   "execution_count": 9,
   "id": "7d76f248f0eb5f28",
   "metadata": {
    "ExecuteTime": {
     "end_time": "2024-07-20T12:02:38.267331Z",
     "start_time": "2024-07-20T12:02:38.264961Z"
    }
   },
   "outputs": [],
   "source": [
    "for cell in np.nditer(a, op_flags=['readwrite']):\n",
    "    cell[...] = cell * cell"
   ]
  },
  {
   "cell_type": "code",
   "execution_count": 10,
   "id": "78b9fceb7f1630d5",
   "metadata": {
    "ExecuteTime": {
     "end_time": "2024-07-20T12:02:38.303955Z",
     "start_time": "2024-07-20T12:02:38.300224Z"
    }
   },
   "outputs": [
    {
     "data": {
      "text/plain": [
       "array([  0,   1,   4,   9,  16,  25,  36,  49,  64,  81, 100, 121])"
      ]
     },
     "execution_count": 10,
     "metadata": {},
     "output_type": "execute_result"
    }
   ],
   "source": [
    "a"
   ]
  },
  {
   "cell_type": "code",
   "execution_count": 11,
   "id": "685c6fda33c2f409",
   "metadata": {
    "ExecuteTime": {
     "end_time": "2024-07-20T12:02:38.349289Z",
     "start_time": "2024-07-20T12:02:38.345820Z"
    }
   },
   "outputs": [
    {
     "data": {
      "text/plain": [
       "array([[ 3],\n",
       "       [ 7],\n",
       "       [11]])"
      ]
     },
     "execution_count": 11,
     "metadata": {},
     "output_type": "execute_result"
    }
   ],
   "source": [
    "b = np.arange(3, 15, 4).reshape(3,1)\n",
    "b"
   ]
  },
  {
   "cell_type": "code",
   "execution_count": 12,
   "id": "3143093dd5502a82",
   "metadata": {
    "ExecuteTime": {
     "end_time": "2024-07-20T12:03:15.547335Z",
     "start_time": "2024-07-20T12:03:15.544314Z"
    }
   },
   "outputs": [
    {
     "name": "stdout",
     "output_type": "stream",
     "text": [
      "0 3\n",
      "1 3\n",
      "4 3\n",
      "9 3\n",
      "16 3\n",
      "25 3\n",
      "36 3\n",
      "49 3\n",
      "64 3\n",
      "81 3\n",
      "100 3\n",
      "121 3\n",
      "0 7\n",
      "1 7\n",
      "4 7\n",
      "9 7\n",
      "16 7\n",
      "25 7\n",
      "36 7\n",
      "49 7\n",
      "64 7\n",
      "81 7\n",
      "100 7\n",
      "121 7\n",
      "0 11\n",
      "1 11\n",
      "4 11\n",
      "9 11\n",
      "16 11\n",
      "25 11\n",
      "36 11\n",
      "49 11\n",
      "64 11\n",
      "81 11\n",
      "100 11\n",
      "121 11\n"
     ]
    }
   ],
   "source": [
    "for x,y in np.nditer([a,b]):\n",
    "    print(x,y)"
   ]
  },
  {
   "cell_type": "code",
   "execution_count": 13,
   "id": "b9686bc20ccb6178",
   "metadata": {
    "ExecuteTime": {
     "end_time": "2024-07-20T12:04:13.910310Z",
     "start_time": "2024-07-20T12:04:13.905468Z"
    }
   },
   "outputs": [
    {
     "data": {
      "text/plain": [
       "array([[ 3],\n",
       "       [ 8],\n",
       "       [13],\n",
       "       [18]])"
      ]
     },
     "execution_count": 13,
     "metadata": {},
     "output_type": "execute_result"
    }
   ],
   "source": [
    "c = np.arange(3, 19, 5).reshape(4,1)\n",
    "c"
   ]
  },
  {
   "cell_type": "markdown",
   "id": "575eecb6cc34ffe7",
   "metadata": {},
   "source": [
    "THIS LINE WILL GENERATE AN ERROR"
   ]
  },
  {
   "cell_type": "code",
   "execution_count": 14,
   "id": "68ecebc08ca5fa01",
   "metadata": {
    "ExecuteTime": {
     "end_time": "2024-07-20T12:04:35.371120Z",
     "start_time": "2024-07-20T12:04:35.337962Z"
    }
   },
   "outputs": [
    {
     "name": "stdout",
     "output_type": "stream",
     "text": [
      "0 3\n",
      "1 3\n",
      "4 3\n",
      "9 3\n",
      "16 3\n",
      "25 3\n",
      "36 3\n",
      "49 3\n",
      "64 3\n",
      "81 3\n",
      "100 3\n",
      "121 3\n",
      "0 8\n",
      "1 8\n",
      "4 8\n",
      "9 8\n",
      "16 8\n",
      "25 8\n",
      "36 8\n",
      "49 8\n",
      "64 8\n",
      "81 8\n",
      "100 8\n",
      "121 8\n",
      "0 13\n",
      "1 13\n",
      "4 13\n",
      "9 13\n",
      "16 13\n",
      "25 13\n",
      "36 13\n",
      "49 13\n",
      "64 13\n",
      "81 13\n",
      "100 13\n",
      "121 13\n",
      "0 18\n",
      "1 18\n",
      "4 18\n",
      "9 18\n",
      "16 18\n",
      "25 18\n",
      "36 18\n",
      "49 18\n",
      "64 18\n",
      "81 18\n",
      "100 18\n",
      "121 18\n"
     ]
    }
   ],
   "source": [
    "for x,y in np.nditer([a,c]):\n",
    "    print(x,y)"
   ]
  }
 ],
 "metadata": {
  "kernelspec": {
   "display_name": "Python 3",
   "language": "python",
   "name": "python3"
  },
  "language_info": {
   "codemirror_mode": {
    "name": "ipython",
    "version": 3
   },
   "file_extension": ".py",
   "mimetype": "text/x-python",
   "name": "python",
   "nbconvert_exporter": "python",
   "pygments_lexer": "ipython3",
   "version": "3.12.2"
  }
 },
 "nbformat": 4,
 "nbformat_minor": 5
}
